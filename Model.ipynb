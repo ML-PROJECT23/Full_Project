{
 "cells": [
  {
   "cell_type": "code",
   "execution_count": null,
   "metadata": {
    "colab": {},
    "colab_type": "code",
    "id": "_zprayeRv5gp"
   },
   "outputs": [],
   "source": [
    "import pandas as pd\n"
   ]
  },
  {
   "cell_type": "code",
   "execution_count": null,
   "metadata": {
    "colab": {},
    "colab_type": "code",
    "id": "Kh50uu9owZRU"
   },
   "outputs": [],
   "source": [
    "data = pd.read_csv('texttocsv.csv')"
   ]
  },
  {
   "cell_type": "code",
   "execution_count": null,
   "metadata": {
    "colab": {
     "base_uri": "https://localhost:8080/",
     "height": 195
    },
    "colab_type": "code",
    "id": "4tzlGhfpwdbI",
    "outputId": "997a7b23-b18b-4a2f-dbb9-9ee52f503c01"
   },
   "outputs": [
    {
     "data": {
      "text/html": [
       "<div>\n",
       "<style scoped>\n",
       "    .dataframe tbody tr th:only-of-type {\n",
       "        vertical-align: middle;\n",
       "    }\n",
       "\n",
       "    .dataframe tbody tr th {\n",
       "        vertical-align: top;\n",
       "    }\n",
       "\n",
       "    .dataframe thead th {\n",
       "        text-align: right;\n",
       "    }\n",
       "</style>\n",
       "<table border=\"1\" class=\"dataframe\">\n",
       "  <thead>\n",
       "    <tr style=\"text-align: right;\">\n",
       "      <th></th>\n",
       "      <th>text</th>\n",
       "      <th>summary</th>\n",
       "    </tr>\n",
       "  </thead>\n",
       "  <tbody>\n",
       "    <tr>\n",
       "      <th>0</th>\n",
       "      <td>Ad sales boost Time Warner profitQuarterly pro...</td>\n",
       "      <td>TimeWarner said fourth quarter sales rose 2% t...</td>\n",
       "    </tr>\n",
       "    <tr>\n",
       "      <th>1</th>\n",
       "      <td>Dollar gains on Greenspan speechThe dollar has...</td>\n",
       "      <td>The dollar has hit its highest level against t...</td>\n",
       "    </tr>\n",
       "    <tr>\n",
       "      <th>2</th>\n",
       "      <td>Yukos unit buyer faces loan claimThe owners of...</td>\n",
       "      <td>Yukos' owner Menatep Group says it will ask Ro...</td>\n",
       "    </tr>\n",
       "    <tr>\n",
       "      <th>3</th>\n",
       "      <td>High fuel prices hit BA's profitsBritish Airwa...</td>\n",
       "      <td>Rod Eddington, BA's chief executive, said the ...</td>\n",
       "    </tr>\n",
       "    <tr>\n",
       "      <th>4</th>\n",
       "      <td>Pernod takeover talk lifts DomecqShares in UK ...</td>\n",
       "      <td>Pernod has reduced the debt it took on to fund...</td>\n",
       "    </tr>\n",
       "  </tbody>\n",
       "</table>\n",
       "</div>"
      ],
      "text/plain": [
       "                                                text                                            summary\n",
       "0  Ad sales boost Time Warner profitQuarterly pro...  TimeWarner said fourth quarter sales rose 2% t...\n",
       "1  Dollar gains on Greenspan speechThe dollar has...  The dollar has hit its highest level against t...\n",
       "2  Yukos unit buyer faces loan claimThe owners of...  Yukos' owner Menatep Group says it will ask Ro...\n",
       "3  High fuel prices hit BA's profitsBritish Airwa...  Rod Eddington, BA's chief executive, said the ...\n",
       "4  Pernod takeover talk lifts DomecqShares in UK ...  Pernod has reduced the debt it took on to fund..."
      ]
     },
     "execution_count": 3,
     "metadata": {
      "tags": []
     },
     "output_type": "execute_result"
    }
   ],
   "source": [
    "data.head()"
   ]
  },
  {
   "cell_type": "code",
   "execution_count": null,
   "metadata": {
    "colab": {
     "base_uri": "https://localhost:8080/",
     "height": 67
    },
    "colab_type": "code",
    "id": "-UYSMPAGweUC",
    "outputId": "3fb06e5c-9dcd-4925-ccc0-bb43429813bd"
   },
   "outputs": [
    {
     "data": {
      "text/plain": [
       "text       0\n",
       "summary    0\n",
       "dtype: int64"
      ]
     },
     "execution_count": 4,
     "metadata": {
      "tags": []
     },
     "output_type": "execute_result"
    }
   ],
   "source": [
    "data.isna().sum( axis = 0)"
   ]
  },
  {
   "cell_type": "markdown",
   "metadata": {
    "colab_type": "text",
    "id": "YBGRh6v4xRsW"
   },
   "source": [
    "<h2><b> Custom Attention Layer</b></h2>"
   ]
  },
  {
   "cell_type": "code",
   "execution_count": 3,
   "metadata": {
    "colab": {},
    "colab_type": "code",
    "id": "EymFmt_Uxh6p"
   },
   "outputs": [],
   "source": [
    "#Importing our own custom attention layer\n",
    "from attention import AttentionLayer"
   ]
  },
  {
   "cell_type": "code",
   "execution_count": null,
   "metadata": {
    "colab": {},
    "colab_type": "code",
    "id": "ohl70pr9xe8m"
   },
   "outputs": [],
   "source": [
    "#Importing essential libraries\n",
    "import numpy as np  \n",
    "import pandas as pd \n",
    "import re           \n",
    "from bs4 import BeautifulSoup \n",
    "from keras.preprocessing.text import Tokenizer \n",
    "from keras.preprocessing.sequence import pad_sequences\n",
    "from nltk.corpus import stopwords   \n",
    "from tensorflow.keras.layers import Input, LSTM, Embedding, Dense, Concatenate, TimeDistributed, Bidirectional\n",
    "from tensorflow.keras.models import Model\n",
    "from tensorflow.keras.callbacks import EarlyStopping\n",
    "import warnings\n",
    "pd.set_option(\"display.max_colwidth\", 200)\n",
    "warnings.filterwarnings(\"ignore\")"
   ]
  },
  {
   "cell_type": "code",
   "execution_count": null,
   "metadata": {
    "colab": {
     "base_uri": "https://localhost:8080/",
     "height": 34
    },
    "colab_type": "code",
    "id": "ghkw1lCP1E6D",
    "outputId": "dfeda9c0-c00a-43ed-d71e-31687a071cfc"
   },
   "outputs": [
    {
     "data": {
      "text/plain": [
       "Index(['text', 'summary'], dtype='object')"
      ]
     },
     "execution_count": 7,
     "metadata": {
      "tags": []
     },
     "output_type": "execute_result"
    }
   ],
   "source": [
    "data.columns"
   ]
  },
  {
   "cell_type": "code",
   "execution_count": null,
   "metadata": {
    "colab": {},
    "colab_type": "code",
    "id": "RT2z78H60Zzp"
   },
   "outputs": [],
   "source": [
    "data.drop_duplicates(subset = ['text'], inplace=True)    #dropping duplicates\n",
    "data.dropna(axis = 0, inplace=True)   #dropping na"
   ]
  },
  {
   "cell_type": "code",
   "execution_count": null,
   "metadata": {
    "colab": {
     "base_uri": "https://localhost:8080/",
     "height": 34
    },
    "colab_type": "code",
    "id": "RtoJD1141Muu",
    "outputId": "ac4a5c41-2407-4f7f-bd5b-8c0443720dfb"
   },
   "outputs": [
    {
     "data": {
      "text/plain": [
       "2126"
      ]
     },
     "execution_count": 9,
     "metadata": {
      "tags": []
     },
     "output_type": "execute_result"
    }
   ],
   "source": [
    "len(data)"
   ]
  },
  {
   "cell_type": "code",
   "execution_count": null,
   "metadata": {
    "colab": {
     "base_uri": "https://localhost:8080/",
     "height": 34
    },
    "colab_type": "code",
    "id": "RO6T2_A_1Tfr",
    "outputId": "2dd6ce6f-d4ee-4b52-a269-be28208a9f9a"
   },
   "outputs": [
    {
     "data": {
      "text/plain": [
       "2126"
      ]
     },
     "execution_count": 10,
     "metadata": {
      "tags": []
     },
     "output_type": "execute_result"
    }
   ],
   "source": [
    "len(data['text'])"
   ]
  },
  {
   "cell_type": "code",
   "execution_count": null,
   "metadata": {
    "colab": {
     "base_uri": "https://localhost:8080/",
     "height": 34
    },
    "colab_type": "code",
    "id": "Cn0pwire1b22",
    "outputId": "39fb7879-cf4f-407b-a777-302508f884b9"
   },
   "outputs": [
    {
     "data": {
      "text/plain": [
       "2126"
      ]
     },
     "execution_count": 11,
     "metadata": {
      "tags": []
     },
     "output_type": "execute_result"
    }
   ],
   "source": [
    "len(data['summary'])"
   ]
  },
  {
   "cell_type": "markdown",
   "metadata": {
    "colab_type": "text",
    "id": "3JjTiEcN17Z_"
   },
   "source": [
    "<b>Preprocessing</b>"
   ]
  },
  {
   "cell_type": "markdown",
   "metadata": {
    "colab_type": "text",
    "id": "TGMbYFbm2VSe"
   },
   "source": [
    "Performing basic preprocessing steps is very important before we get to the model building part. Using messy and uncleaned text data is a potentially disastrous move. So in this step, we will drop all the unwanted symbols, characters, etc. from the text that do not affect the objective of our problem.\n",
    "\n",
    "Here is the dictionary that we will use for expanding the contractions:"
   ]
  },
  {
   "cell_type": "code",
   "execution_count": null,
   "metadata": {
    "colab": {},
    "colab_type": "code",
    "id": "qPKxZo8q1tFl"
   },
   "outputs": [],
   "source": [
    "contraction_mapping = {\"ain't\": \"is not\", \"aren't\": \"are not\",\"can't\": \"cannot\", \"'cause\": \"because\", \"could've\": \"could have\", \"couldn't\": \"could not\",\n",
    "\n",
    "                           \"didn't\": \"did not\", \"doesn't\": \"does not\", \"don't\": \"do not\", \"hadn't\": \"had not\", \"hasn't\": \"has not\", \"haven't\": \"have not\",\n",
    "\n",
    "                           \"he'd\": \"he would\",\"he'll\": \"he will\", \"he's\": \"he is\", \"how'd\": \"how did\", \"how'd'y\": \"how do you\", \"how'll\": \"how will\", \"how's\": \"how is\",\n",
    "\n",
    "                           \"I'd\": \"I would\", \"I'd've\": \"I would have\", \"I'll\": \"I will\", \"I'll've\": \"I will have\",\"I'm\": \"I am\", \"I've\": \"I have\", \"i'd\": \"i would\",\n",
    "\n",
    "                           \"i'd've\": \"i would have\", \"i'll\": \"i will\",  \"i'll've\": \"i will have\",\"i'm\": \"i am\", \"i've\": \"i have\", \"isn't\": \"is not\", \"it'd\": \"it would\",\n",
    "\n",
    "                           \"it'd've\": \"it would have\", \"it'll\": \"it will\", \"it'll've\": \"it will have\",\"it's\": \"it is\", \"let's\": \"let us\", \"ma'am\": \"madam\",\n",
    "\n",
    "                           \"mayn't\": \"may not\", \"might've\": \"might have\",\"mightn't\": \"might not\",\"mightn't've\": \"might not have\", \"must've\": \"must have\",\n",
    "\n",
    "                           \"mustn't\": \"must not\", \"mustn't've\": \"must not have\", \"needn't\": \"need not\", \"needn't've\": \"need not have\",\"o'clock\": \"of the clock\",\n",
    "\n",
    "                           \"oughtn't\": \"ought not\", \"oughtn't've\": \"ought not have\", \"shan't\": \"shall not\", \"sha'n't\": \"shall not\", \"shan't've\": \"shall not have\",\n",
    "\n",
    "                           \"she'd\": \"she would\", \"she'd've\": \"she would have\", \"she'll\": \"she will\", \"she'll've\": \"she will have\", \"she's\": \"she is\",\n",
    "\n",
    "                           \"should've\": \"should have\", \"shouldn't\": \"should not\", \"shouldn't've\": \"should not have\", \"so've\": \"so have\",\"so's\": \"so as\",\n",
    "\n",
    "                           \"this's\": \"this is\",\"that'd\": \"that would\", \"that'd've\": \"that would have\", \"that's\": \"that is\", \"there'd\": \"there would\",\n",
    "\n",
    "                           \"there'd've\": \"there would have\", \"there's\": \"there is\", \"here's\": \"here is\",\"they'd\": \"they would\", \"they'd've\": \"they would have\",\n",
    "\n",
    "                           \"they'll\": \"they will\", \"they'll've\": \"they will have\", \"they're\": \"they are\", \"they've\": \"they have\", \"to've\": \"to have\",\n",
    "\n",
    "                           \"wasn't\": \"was not\", \"we'd\": \"we would\", \"we'd've\": \"we would have\", \"we'll\": \"we will\", \"we'll've\": \"we will have\", \"we're\": \"we are\",\n",
    "\n",
    "                           \"we've\": \"we have\", \"weren't\": \"were not\", \"what'll\": \"what will\", \"what'll've\": \"what will have\", \"what're\": \"what are\",\n",
    "\n",
    "                           \"what's\": \"what is\", \"what've\": \"what have\", \"when's\": \"when is\", \"when've\": \"when have\", \"where'd\": \"where did\", \"where's\": \"where is\",\n",
    "\n",
    "                           \"where've\": \"where have\", \"who'll\": \"who will\", \"who'll've\": \"who will have\", \"who's\": \"who is\", \"who've\": \"who have\",\n",
    "\n",
    "                           \"why's\": \"why is\", \"why've\": \"why have\", \"will've\": \"will have\", \"won't\": \"will not\", \"won't've\": \"will not have\",\n",
    "\n",
    "                           \"would've\": \"would have\", \"wouldn't\": \"would not\", \"wouldn't've\": \"would not have\", \"y'all\": \"you all\",\n",
    "\n",
    "                           \"y'all'd\": \"you all would\",\"y'all'd've\": \"you all would have\",\"y'all're\": \"you all are\",\"y'all've\": \"you all have\",\n",
    "\n",
    "                           \"you'd\": \"you would\", \"you'd've\": \"you would have\", \"you'll\": \"you will\", \"you'll've\": \"you will have\",\n",
    "\n",
    "                           \"you're\": \"you are\", \"you've\": \"you have\"}"
   ]
  },
  {
   "cell_type": "markdown",
   "metadata": {},
   "source": [
    "<h2><b>Text Cleaning</b></h2> <br>\n",
    "Let’s look at the first 10 reviews in our dataset to get an idea of the text preprocessing steps:"
   ]
  },
  {
   "cell_type": "code",
   "execution_count": null,
   "metadata": {
    "colab": {
     "base_uri": "https://localhost:8080/",
     "height": 222
    },
    "colab_type": "code",
    "id": "wrXHyFyd2Ycu",
    "outputId": "a8abc6d8-f1b0-44c4-cee7-b5307c5845be"
   },
   "outputs": [
    {
     "data": {
      "text/plain": [
       "0    Ad sales boost Time Warner profitQuarterly profits at US media giant TimeWarner jumped 76% to $1.13bn (£600m) for the three months to December, from $639m year-earlier.The firm, which is now one o...\n",
       "1    Dollar gains on Greenspan speechThe dollar has hit its highest level against the euro in almost three months after the Federal Reserve head said the US trade deficit is set to stabilise.And Alan G...\n",
       "2    Yukos unit buyer faces loan claimThe owners of embattled Russian oil giant Yukos are to ask the buyer of its former production unit to pay back a $900m (£479m) loan.State-owned Rosneft bought the ...\n",
       "3    High fuel prices hit BA's profitsBritish Airways has blamed high fuel prices for a 40% drop in profits.Reporting its results for the three months to 31 December 2004, the airline made a pre-tax pr...\n",
       "4    Pernod takeover talk lifts DomecqShares in UK drinks and food firm Allied Domecq have risen on speculation that it could be the target of a takeover by France's Pernod Ricard.Reports in the Wall S...\n",
       "5    Japan narrowly escapes recessionJapan's economy teetered on the brink of a technical recession in the three months to September, figures show.Revised figures indicated growth of just 0.1% - and a ...\n",
       "6    Jobs growth still slow in the USThe US created fewer jobs than expected in January, but a fall in jobseekers pushed the unemployment rate to its lowest level in three years.According to Labor Depa...\n",
       "7    India calls for fair trade rulesIndia, which attends the G7 meeting of seven leading industrialised nations on Friday, is unlikely to be cowed by its newcomer status.In London on Thursday ahead of...\n",
       "8    Ethiopia's crop production up 24%Ethiopia produced 14.27 million tonnes of crops in 2004, 24% higher than in 2003 and 21% more than the average of the past five years, a report says.In 2003, crop ...\n",
       "9    Court rejects $280bn tobacco caseA US government claim accusing the country's biggest tobacco companies of covering up the effects of smoking has been thrown out by an appeal court.The demand for ...\n",
       "Name: text, dtype: object"
      ]
     },
     "execution_count": 13,
     "metadata": {
      "tags": []
     },
     "output_type": "execute_result"
    }
   ],
   "source": [
    "data['text'][:10]  "
   ]
  },
  {
   "cell_type": "markdown",
   "metadata": {
    "colab_type": "text",
    "id": "R6Q3Duoy2sWm"
   },
   "source": [
    "We will perform the below preprocessing tasks for our data:\n",
    "\n",
    "Convert everything to lowercase \n",
    "\n",
    "1. Remove HTML tags \n",
    "2. Contraction mapping \n",
    "3. Remove (‘s) \n",
    "4. Remove any text inside the parenthesis \n",
    "5. Eliminate punctuations and special  \n",
    "6. characters \n",
    "7. Remove stopwords \n",
    "8. Remove short words "
   ]
  },
  {
   "cell_type": "code",
   "execution_count": null,
   "metadata": {
    "colab": {
     "base_uri": "https://localhost:8080/",
     "height": 50
    },
    "colab_type": "code",
    "id": "kwR9PFZf2gxg",
    "outputId": "7378f3cc-a168-4bb0-fa87-cc884fa13828"
   },
   "outputs": [
    {
     "name": "stdout",
     "output_type": "stream",
     "text": [
      "[nltk_data] Downloading package stopwords to /root/nltk_data...\n",
      "[nltk_data]   Package stopwords is already up-to-date!\n"
     ]
    }
   ],
   "source": [
    "#Cleaning the text\n",
    "import nltk\n",
    "nltk.download('stopwords')\n",
    "stop_words = set(stopwords.words('english')) \n",
    "def text_cleaner(text):\n",
    "    newString = text.lower()\n",
    "    newString = BeautifulSoup(newString, \"lxml\").text\n",
    "    newString = re.sub(r'\\([^)]*\\)', '', newString)\n",
    "    newString = re.sub('\"','', newString)\n",
    "    newString = ' '.join([contraction_mapping[t] if t in contraction_mapping else t for t in newString.split(\" \")])    \n",
    "    newString = re.sub(r\"'s\\b\",\"\",newString)\n",
    "    newString = re.sub(\"[^a-zA-Z]\", \" \", newString) \n",
    "    tokens = [w for w in newString.split() if not w in stop_words]\n",
    "    long_words=[]\n",
    "    for i in tokens:\n",
    "        if len(i)>=3:                  #removing short word\n",
    "            long_words.append(i)   \n",
    "    return (\" \".join(long_words)).strip()\n",
    "\n",
    "cleaned_text = []\n",
    "for t in data['text']:\n",
    "    cleaned_text.append(text_cleaner(t))"
   ]
  },
  {
   "cell_type": "code",
   "execution_count": null,
   "metadata": {
    "colab": {
     "base_uri": "https://localhost:8080/",
     "height": 34
    },
    "colab_type": "code",
    "id": "TpLLz0bA4mA3",
    "outputId": "bf83b280-ab9e-4621-8323-8b834d1e3854"
   },
   "outputs": [
    {
     "data": {
      "text/plain": [
       "Index(['text', 'summary'], dtype='object')"
      ]
     },
     "execution_count": 15,
     "metadata": {
      "tags": []
     },
     "output_type": "execute_result"
    }
   ],
   "source": [
    "data.columns"
   ]
  },
  {
   "cell_type": "code",
   "execution_count": null,
   "metadata": {
    "colab": {
     "base_uri": "https://localhost:8080/",
     "height": 222
    },
    "colab_type": "code",
    "id": "o79w_7Xb3myl",
    "outputId": "41081bd9-370f-4492-886d-5f1a5185c1af"
   },
   "outputs": [
    {
     "data": {
      "text/plain": [
       "0    TimeWarner said fourth quarter sales rose 2% to $11.1bn from $10.9bn.For the full-year, TimeWarner posted a profit of $3.36bn, up 27% from its 2003 performance, while revenues grew 6.4% to $42.09b...\n",
       "1    The dollar has hit its highest level against the euro in almost three months after the Federal Reserve head said the US trade deficit is set to stabilise.China's currency remains pegged to the dol...\n",
       "2    Yukos' owner Menatep Group says it will ask Rosneft to repay a loan that Yugansk had secured on its assets.State-owned Rosneft bought the Yugansk unit for $9.3bn in a sale forced by Russia to part...\n",
       "3    Rod Eddington, BA's chief executive, said the results were \"respectable\" in a third quarter when fuel costs rose by £106m or 47.3%.To help offset the increased price of aviation fuel, BA last year...\n",
       "4    Pernod has reduced the debt it took on to fund the Seagram purchase to just 1.8bn euros, while Allied has improved the performance of its fast-food chains.Shares in UK drinks and food firm Allied ...\n",
       "5    On an annual basis, the data suggests annual growth of just 0.2%, suggesting a much more hesitant recovery than had previously been thought.A common technical definition of a recession is two succ...\n",
       "6    The job gains mean that President Bush can celebrate - albeit by a very fine margin - a net growth in jobs in the US economy in his first term in office.Analysts said the growth in new jobs was no...\n",
       "7    At a conference on developing enterprise hosted by UK finance minister Gordon Brown on Friday, he said that he was in favour of floating exchange rates because they help countries cope with econom...\n",
       "8    In 2003, crop production totalled 11.49 million tonnes, the joint report from the Food and Agriculture Organisation and the World Food Programme said.The Food and Agriculture Organisation (FAO) re...\n",
       "9    A US government claim accusing the country's biggest tobacco companies of covering up the effects of smoking has been thrown out by an appeal court.The tobacco companies deny that they illegally c...\n",
       "Name: summary, dtype: object"
      ]
     },
     "execution_count": 16,
     "metadata": {
      "tags": []
     },
     "output_type": "execute_result"
    }
   ],
   "source": [
    "data['summary'][:10]"
   ]
  },
  {
   "cell_type": "code",
   "execution_count": null,
   "metadata": {
    "colab": {},
    "colab_type": "code",
    "id": "L9OMy68l4eaC"
   },
   "outputs": [],
   "source": [
    "#Cleaning the summary\n",
    "def summary_cleaner(text):\n",
    "    newString = re.sub('\"','', text)\n",
    "    newString = ' '.join([contraction_mapping[t] if t in contraction_mapping else t for t in newString.split(\" \")])    \n",
    "    newString = re.sub(r\"'s\\b\",\"\",newString)\n",
    "    newString = re.sub(\"[^a-zA-Z]\", \" \", newString)\n",
    "    newString = newString.lower()\n",
    "    tokens=newString.split()\n",
    "    newString=''\n",
    "    for i in tokens:\n",
    "        if len(i)>1:                                 \n",
    "            newString=newString+i+' '  \n",
    "    return newString\n",
    "\n",
    "#Call the above function\n",
    "cleaned_summary = []\n",
    "for t in data['summary']:\n",
    "    cleaned_summary.append(summary_cleaner(t))\n",
    "\n",
    "data['cleaned_text']=cleaned_text\n",
    "data['cleaned_summary']=cleaned_summary\n",
    "data['cleaned_summary'].replace('', np.nan, inplace=True)\n",
    "data.dropna(axis=0,inplace=True)"
   ]
  },
  {
   "cell_type": "markdown",
   "metadata": {
    "colab_type": "text",
    "id": "aNSAUTlm5F6-"
   },
   "source": [
    "Adding START and END special tokens at the beginning and end of the summary:"
   ]
  },
  {
   "cell_type": "code",
   "execution_count": null,
   "metadata": {
    "colab": {},
    "colab_type": "code",
    "id": "WXvQHJt547Y-"
   },
   "outputs": [],
   "source": [
    "data['cleaned_summary'] = data['cleaned_summary'].apply(lambda x : '_START_ '+ x + ' _END_')"
   ]
  },
  {
   "cell_type": "code",
   "execution_count": null,
   "metadata": {
    "colab": {
     "base_uri": "https://localhost:8080/",
     "height": 373
    },
    "colab_type": "code",
    "id": "Xvc39mye5Egy",
    "outputId": "30d5b833-4e90-4f24-e8a8-dffc81c71ee8"
   },
   "outputs": [
    {
     "name": "stdout",
     "output_type": "stream",
     "text": [
      "Review: sales boost time warner profitquarterly profits media giant timewarner jumped three months december year earlier firm one biggest investors google benefited sales high speed internet connections higher advert sales timewarner said fourth quarter sales rose profits buoyed one gains offset profit dip warner bros less users aol time warner said friday owns search engine google internet business aol mixed fortunes lost subscribers fourth quarter profits lower preceding three quarters however company said aol underlying profit exceptional items rose back stronger internet advertising revenues hopes increase subscribers offering online service free timewarner internet customers try sign aol existing customers high speed broadband timewarner also restate results following probe securities exchange commission close concluding time warner fourth quarter profits slightly better analysts expectations film division saw profits slump helped box office flops alexander catwoman sharp contrast year earlier third final film lord rings trilogy boosted results full year timewarner posted profit performance revenues grew financial performance strong meeting exceeding full year objectives greatly enhancing flexibility chairman chief executive richard parsons said timewarner projecting operating earnings growth around also expects higher revenue wider profit margins timewarner restate accounts part efforts resolve inquiry aol market regulators already offered pay settle charges deal review sec company said unable estimate amount needed set aside legal reserves previously set intends adjust way accounts deal german music publisher bertelsmann purchase stake aol europe reported advertising revenue book sale stake aol europe loss value stake\n",
      "Summary: _START_ timewarner said fourth quarter sales rose to bn from bn for the full year timewarner posted profit of bn up from its performance while revenues grew to bn quarterly profits at us media giant timewarner jumped to bn for the three months to december from year earlier however the company said aol underlying profit before exceptional items rose on the back of stronger internet advertising revenues its profits were buoyed by one off gains which offset profit dip at warner bros and less users for aol for timewarner is projecting operating earnings growth of around and also expects higher revenue and wider profit margins it lost subscribers in the fourth quarter profits were lower than in the preceding three quarters time warner fourth quarter profits were slightly better than analysts expectations  _END_\n",
      "\n",
      "\n",
      "Review: dollar gains greenspan speechthe dollar hit highest level euro almost three months federal reserve head said trade deficit set stabilise alan greenspan highlighted government willingness curb spending rising household savings factors may help reduce late trading new york dollar reached euro thursday market concerns deficit hit greenback recent months friday federal reserve chairman greenspan speech london ahead meeting finance ministers sent dollar higher earlier tumbled back worse expected jobs data think chairman taking much sanguine view current account deficit taken time said robert sinche head currency strategy bank america new york taking longer term view laying set conditions current account deficit improve year next worries deficit concerns china however remain china currency remains pegged dollar currency sharp falls recent months therefore made chinese export prices highly competitive calls shift beijing policy fallen deaf ears despite recent comments major chinese newspaper time ripe loosening peg meeting thought unlikely produce meaningful movement chinese policy meantime federal reserve decision february boost interest rates quarter point sixth move many months opened differential european rates half point window believe could enough keep assets looking attractive could help prop dollar recent falls partly result big budget deficits well yawning current account gap need funded buying bonds assets foreign firms governments white house announce budget monday many commentators believe deficit remain close half trillion dollars\n",
      "Summary: _START_ the dollar has hit its highest level against the euro in almost three months after the federal reserve head said the us trade deficit is set to stabilise china currency remains pegged to the dollar and the us currency sharp falls in recent months have therefore made chinese export prices highly competitive market concerns about the deficit has hit the greenback in recent months think the chairman taking much more sanguine view on the current account deficit than he is taken for some time said robert sinche head of currency strategy at bank of america in new york the recent falls have partly been the result of big budget deficits as well as the us yawning current account gap both of which need to be funded by the buying of us bonds and assets by foreign firms and governments he taking longer term view laying out set of conditions under which the current account deficit can improve this year and next  _END_\n",
      "\n",
      "\n",
      "Review: yukos unit buyer faces loan claimthe owners embattled russian oil giant yukos ask buyer former production unit pay back loan state owned rosneft bought yugansk unit sale forced russia part settle tax claim yukos yukos owner menatep group says ask rosneft repay loan yugansk secured assets rosneft already faces similar repayment demand foreign banks legal experts said rosneft purchase yugansk would include obligations pledged assets rosneft pay real money creditors avoid seizure yugansk assets said moscow based lawyer jamie firestone connected case menatep group managing director tim osborne told reuters news agency default fight rule law exists international arbitration clauses credit rosneft officials unavailable comment company said intends take action menatep recover tax claims debts owed yugansk yukos filed bankruptcy protection court attempt prevent forced sale main production arm sale went ahead december yugansk sold little known shell company turn bought rosneft yukos claims downfall punishment political ambitions founder mikhail khodorkovsky vowed sue participant sale\n",
      "Summary: _START_ yukos owner menatep group says it will ask rosneft to repay loan that yugansk had secured on its assets state owned rosneft bought the yugansk unit for bn in sale forced by russia to part settle bn tax claim against yukos the sale went ahead in december and yugansk was sold to little known shell company which in turn was bought by rosneft but the company has said it intends to take action against menatep to recover some of the tax claims and debts owed by yugansk the pledged assets are with rosneft so it will have to pay real money to the creditors to avoid seizure of yugansk assets said moscow based us lawyer jamie firestone who is not connected to the case  _END_\n",
      "\n",
      "\n",
      "Review: high fuel prices hit profitsbritish airways blamed high fuel prices drop profits reporting results three months december airline made pre tax profit compared year earlier rod eddington chief executive said results respectable third quarter fuel costs rose profits still better market expectation expects rise full year revenues help offset increased price aviation fuel last year introduced fuel surcharge passengers october increased one way long haul flights short haul surcharge raised leg yet aviation analyst mike powell dresdner kleinwort wasserstein says estimated annual surcharge revenues still way short additional fuel costs predicted extra turnover quarter benefiting rise cargo revenue looking ahead full year results march warned yields average revenues per passenger expected decline continues lower prices face competition low cost carriers however said sales would better previously forecast year march total revenue outlook slightly better previous guidance improvement anticipated chairman martin broughton said previously forecast rise full year revenue also reported friday passenger numbers rose january aviation analyst nick van den brul bnp paribas described latest quarterly results pretty modest quite good revenue side shows impact fuel surcharges positive cargo development however operating margins cost impact fuel strong said since september attacks united states cut jobs part major cost cutting drive focus remains reducing controllable costs debt whilst continuing invest products eddington said example taken delivery six airbus aircraft next month start improvements club world flat beds shares closed four pence pence\n",
      "Summary: _START_ rod eddington ba chief executive said the results were respectable in third quarter when fuel costs rose by or to help offset the increased price of aviation fuel ba last year introduced fuel surcharge for passengers ba had previously forecast to rise in full year revenue it is quite good on the revenue side and it shows the impact of fuel surcharges and positive cargo development however operating margins down and cost impact of fuel are very strong he said yet aviation analyst mike powell of dresdner kleinwort wasserstein says ba estimated annual surcharge revenues will still be way short of its additional fuel costs predicted extra for the year to march the total revenue outlook is slightly better than previous guidance with to improvement anticipated ba chairman martin broughton said looking ahead to its full year results to march ba warned that yields average revenues per passenger were expected to decline as it continues to lower prices in the face of competition from low cost carriers ba profits were still better than market expectation of and it expects rise in full year revenues  _END_\n",
      "\n",
      "\n",
      "Review: pernod takeover talk lifts domecqshares drinks food firm allied domecq risen speculation could target takeover france pernod ricard reports wall street journal financial times suggested french spirits firm considering bid yet contact target allied domecq shares london rose gmt pernod shares paris slipped pernod said seeking acquisitions refused comment specifics pernod last major purchase third giant seagram move propelled global top three drinks firms two thirds seagram bought market leader diageo terms market value pernod euros smaller allied domecq capitalisation last year pernod tried buy glenmorangie one scotland premier whisky firms lost luxury goods firm lvmh pernod home brands including chivas regal scotch whisky havana club rum jacob creek wine allied domecq big names include malibu rum courvoisier brandy stolichnaya vodka ballantine whisky well snack food chains dunkin donuts baskin robbins ice cream wsj said two ripe consolidation dealt problematic parts portfolio pernod reduced debt took fund seagram purchase euros allied improved performance fast food chains\n",
      "Summary: _START_ pernod has reduced the debt it took on to fund the seagram purchase to just bn euros while allied has improved the performance of its fast food chains shares in uk drinks and food firm allied domecq have risen on speculation that it could be the target of takeover by france pernod ricard pernod said it was seeking acquisitions but refused to comment on specifics in terms of market value pernod at bn euros bn is about smaller than allied domecq which has capitalisation of bn bn bn euros allied domecq shares in london rose by gmt while pernod shares in paris slipped  _END_\n",
      "\n",
      "\n"
     ]
    }
   ],
   "source": [
    "for i in range(5):\n",
    "    print(\"Review:\",data['cleaned_text'][i])\n",
    "    print(\"Summary:\",data['cleaned_summary'][i])\n",
    "    print(\"\\n\")"
   ]
  },
  {
   "cell_type": "markdown",
   "metadata": {},
   "source": [
    "<h3><b>Understanding the distribution of the sequences</b></h3> <br>\n",
    "<b>Here, we will analyze the length of the reviews and the summary to get an overall idea about the distribution of length of the text.</b><br>\n",
    "This will help us fix the maximum length of the sequence:"
   ]
  },
  {
   "cell_type": "code",
   "execution_count": null,
   "metadata": {
    "colab": {
     "base_uri": "https://localhost:8080/",
     "height": 281
    },
    "colab_type": "code",
    "id": "hDLkVMHN5Nfh",
    "outputId": "cbf4aaec-2d51-4bd4-ed6e-5613b506238f"
   },
   "outputs": [
    {
     "data": {
      "image/png": "[encoded data removed]",
      "text/plain": [
       "<Figure size 432x288 with 2 Axes>"
      ]
     },
     "metadata": {
      "needs_background": "light",
      "tags": []
     },
     "output_type": "display_data"
    }
   ],
   "source": [
    "import matplotlib.pyplot as plt\n",
    "text_word_count = []\n",
    "summary_word_count = []\n",
    "\n",
    "# populate the lists with sentence lengths\n",
    "for i in data['cleaned_text']:\n",
    "      text_word_count.append(len(i.split()))\n",
    "\n",
    "for i in data['cleaned_summary']:\n",
    "      summary_word_count.append(len(i.split()))\n",
    "\n",
    "length_df = pd.DataFrame({'text':text_word_count, 'summary':summary_word_count})\n",
    "length_df.hist(bins = 30)\n",
    "plt.show()"
   ]
  },
  {
   "cell_type": "code",
   "execution_count": null,
   "metadata": {
    "colab": {
     "base_uri": "https://localhost:8080/",
     "height": 34
    },
    "colab_type": "code",
    "id": "tbXk8_du5spm",
    "outputId": "91f5d994-694a-435c-8584-4b9cc9ddfa50"
   },
   "outputs": [
    {
     "data": {
      "text/plain": [
       "Index(['text', 'summary', 'cleaned_text', 'cleaned_summary'], dtype='object')"
      ]
     },
     "execution_count": 21,
     "metadata": {
      "tags": []
     },
     "output_type": "execute_result"
    }
   ],
   "source": [
    "data.columns"
   ]
  },
  {
   "cell_type": "code",
   "execution_count": null,
   "metadata": {
    "colab": {
     "base_uri": "https://localhost:8080/",
     "height": 54
    },
    "colab_type": "code",
    "id": "FM_P9ZPL6URt",
    "outputId": "010703b3-15d2-40db-90f3-2cc42f383008"
   },
   "outputs": [
    {
     "name": "stdout",
     "output_type": "stream",
     "text": [
      "[236, 218, 155, 231, 156, 109, 164, 177, 136, 128, 103, 175, 174, 274, 335, 130, 120, 97, 163, 357, 201, 183, 119, 178, 249, 172, 149, 127, 225, 234, 185, 169, 119, 177, 121, 191, 222, 93, 120, 132, 196, 127, 119, 229, 177, 168, 143, 148, 326, 191, 173, 271, 123, 146, 173, 147, 256, 113, 170, 90, 128, 171, 164, 166, 178, 194, 166, 237, 274, 117, 130, 155, 140, 150, 120, 165, 266, 139, 145, 134, 150, 113, 275, 116, 137, 107, 169, 104, 190, 222, 184, 207, 152, 111, 141, 92, 241, 123, 252, 188, 201, 124, 271, 216, 124, 174, 170, 95, 72, 154, 306, 173, 212, 185, 116, 135, 250, 119, 284, 171, 297, 226, 106, 101, 125, 202, 262, 181, 98, 242, 272, 126, 165, 205, 220, 297, 126, 178, 180, 266, 145, 187, 140, 99, 156, 464, 124, 150, 325, 210, 162, 185, 205, 207, 161, 161, 143, 85, 345, 196, 219, 175, 253, 235, 217, 136, 126, 142, 111, 122, 118, 234, 217, 152, 132, 159, 192, 154, 119, 189, 277, 157, 413, 190, 177, 130, 175, 243, 235, 179, 271, 215, 173, 105, 224, 165, 151, 156, 187, 356, 157, 218, 172, 257, 156, 183, 185, 174, 246, 205, 155, 156, 234, 162, 306, 203, 279, 118, 151, 195, 165, 275, 142, 298, 143, 180, 112, 128, 232, 139, 177, 152, 88, 95, 128, 223, 91, 171, 125, 411, 340, 461, 257, 457, 211, 152, 156, 330, 147, 186, 353, 180, 105, 117, 242, 243, 127, 279, 419, 325, 181, 239, 177, 400, 109, 404, 267, 292, 246, 218, 277, 153, 162, 107, 474, 100, 247, 97, 120, 188, 97, 432, 134, 200, 483, 130, 186, 298, 237, 210, 214, 294, 175, 294, 152, 149, 274, 104, 97, 132, 176, 148, 139, 122, 246, 164, 131, 130, 117, 156, 151, 424, 151, 211, 193, 222, 189, 157, 88, 86, 247, 224, 151, 234, 165, 118, 185, 454, 155, 323, 137, 131, 200, 192, 143, 167, 195, 125, 193, 81, 236, 245, 365, 148, 280, 202, 104, 118, 87, 497, 313, 94, 151, 248, 199, 126, 146, 141, 139, 136, 109, 256, 175, 155, 118, 111, 77, 101, 157, 154, 179, 86, 132, 123, 140, 135, 164, 168, 190, 106, 168, 200, 160, 155, 145, 204, 214, 184, 92, 149, 77, 186, 145, 327, 185, 170, 176, 215, 148, 270, 296, 146, 93, 390, 98, 141, 181, 241, 195, 211, 152, 92, 127, 146, 218, 133, 139, 189, 128, 234, 166, 322, 161, 231, 97, 98, 101, 347, 251, 164, 265, 297, 129, 212, 156, 192, 125, 156, 202, 171, 141, 236, 300, 242, 179, 197, 175, 259, 222, 116, 209, 198, 189, 183, 189, 161, 105, 124, 122, 172, 98, 163, 196, 84, 285, 274, 95, 123, 171, 122, 127, 153, 214, 96, 208, 292, 115, 119, 149, 172, 424, 174, 160, 166, 195, 87, 200, 266, 104, 173, 303, 133, 110, 304, 129, 133, 246, 128, 154, 253, 125, 241, 95, 104, 162, 106, 130, 115, 154, 205, 166, 185, 176, 117, 200, 279, 144, 163, 341, 147, 133, 96, 130, 242, 288, 163, 206, 172, 197, 167, 156, 168, 143, 145, 266, 169, 190, 152, 139, 130, 208, 213, 173, 118, 113, 205, 175, 142, 123, 141, 203, 161, 149, 197, 122, 155, 145, 156, 188, 151, 124, 161, 109, 385, 161, 205, 332, 100, 175, 151, 139, 198, 139, 163, 192, 131, 164, 218, 132, 165, 193, 129, 150, 171, 104, 132, 207, 203, 109, 85, 180, 124, 91, 127, 217, 352, 168, 195, 125, 147, 169, 196, 132, 226, 112, 142, 118, 109, 198, 148, 138, 142, 96, 141, 137, 151, 135, 176, 150, 130, 287, 181, 375, 156, 135, 156, 128, 124, 159, 204, 668, 202, 251, 119, 118, 143, 150, 162, 111, 127, 348, 331, 221, 122, 164, 142, 243, 177, 112, 155, 149, 347, 112, 122, 167, 78, 201, 101, 199, 132, 117, 112, 106, 160, 187, 182, 132, 104, 136, 125, 134, 111, 128, 147, 95, 138, 115, 123, 318, 234, 158, 226, 134, 92, 118, 131, 123, 182, 238, 131, 255, 129, 132, 137, 265, 112, 136, 105, 303, 218, 277, 128, 127, 155, 162, 130, 115, 135, 89, 167, 303, 296, 160, 114, 116, 143, 134, 156, 242, 94, 152, 131, 154, 163, 127, 176, 328, 101, 242, 111, 117, 184, 312, 129, 155, 270, 146, 131, 107, 127, 402, 225, 124, 137, 269, 92, 227, 121, 1742, 211, 301, 1127, 152, 203, 313, 119, 428, 323, 347, 156, 105, 144, 231, 153, 104, 260, 103, 413, 197, 137, 128, 177, 378, 130, 242, 124, 297, 130, 159, 165, 178, 192, 111, 242, 173, 146, 208, 135, 139, 121, 155, 141, 308, 180, 99, 233, 133, 398, 322, 180, 112, 91, 201, 170, 142, 557, 148, 316, 104, 97, 185, 106, 220, 139, 285, 125, 264, 352, 170, 151, 127, 126, 112, 163, 227, 125, 118, 138, 132, 126, 98, 94, 118, 196, 225, 124, 127, 162, 279, 1221, 336, 282, 333, 236, 122, 144, 156, 157, 234, 122, 108, 178, 345, 628, 244, 161, 135, 369, 271, 130, 274, 172, 167, 200, 122, 123, 112, 117, 125, 150, 149, 144, 252, 211, 297, 134, 264, 196, 275, 278, 311, 107, 165, 225, 303, 273, 99, 135, 96, 145, 310, 285, 259, 247, 170, 142, 131, 126, 361, 136, 238, 218, 265, 199, 260, 250, 132, 215, 120, 173, 288, 318, 336, 305, 133, 125, 139, 233, 247, 297, 248, 384, 213, 253, 285, 145, 292, 292, 118, 198, 257, 221, 161, 305, 148, 170, 237, 300, 332, 330, 210, 302, 160, 285, 201, 127, 220, 234, 131, 332, 274, 279, 184, 280, 135, 161, 286, 213, 360, 285, 309, 163, 111, 233, 142, 259, 225, 195, 254, 190, 237, 305, 326, 250, 208, 266, 274, 268, 199, 101, 166, 262, 515, 199, 153, 158, 328, 267, 132, 225, 258, 213, 305, 311, 84, 321, 186, 243, 342, 345, 130, 250, 196, 180, 151, 241, 324, 260, 346, 213, 173, 111, 298, 280, 231, 107, 90, 203, 277, 254, 231, 130, 239, 265, 238, 229, 237, 241, 280, 153, 289, 270, 172, 183, 120, 168, 283, 198, 251, 356, 235, 251, 152, 219, 225, 354, 221, 290, 263, 128, 255, 283, 217, 329, 188, 301, 228, 230, 220, 109, 289, 148, 113, 307, 260, 149, 182, 240, 173, 265, 245, 247, 174, 254, 225, 234, 238, 138, 145, 166, 191, 278, 269, 89, 356, 269, 359, 215, 158, 330, 254, 246, 274, 162, 176, 334, 233, 171, 279, 155, 267, 261, 214, 170, 177, 338, 93, 87, 95, 212, 231, 209, 300, 251, 119, 268, 270, 304, 159, 142, 75, 534, 364, 282, 394, 314, 326, 314, 307, 396, 302, 306, 264, 381, 303, 206, 162, 398, 301, 93, 267, 303, 280, 219, 191, 243, 257, 173, 180, 276, 171, 271, 315, 268, 321, 187, 186, 227, 1926, 338, 1266, 164, 178, 167, 241, 184, 291, 244, 332, 86, 309, 210, 151, 105, 134, 208, 230, 136, 385, 236, 255, 171, 265, 284, 239, 132, 337, 160, 208, 380, 351, 90, 135, 272, 242, 254, 221, 219, 415, 299, 247, 332, 341, 87, 313, 178, 185, 268, 262, 364, 252, 269, 475, 157, 278, 190, 145, 255, 298, 307, 194, 222, 192, 284, 263, 259, 222, 309, 204, 282, 355, 220, 390, 136, 153, 309, 282, 1619, 97, 278, 281, 345, 177, 269, 247, 297, 312, 332, 97, 182, 388, 246, 256, 363, 47, 87, 304, 353, 140, 165, 268, 136, 300, 499, 232, 333, 158, 133, 416, 125, 104, 279, 138, 165, 262, 124, 89, 189, 104, 85, 77, 73, 109, 218, 134, 104, 127, 176, 265, 86, 146, 139, 142, 80, 150, 116, 226, 102, 142, 90, 94, 153, 82, 396, 79, 116, 143, 431, 185, 125, 130, 168, 94, 384, 114, 121, 276, 147, 176, 104, 147, 235, 271, 138, 143, 79, 88, 157, 119, 86, 387, 459, 312, 208, 371, 136, 146, 116, 150, 468, 93, 252, 458, 326, 118, 281, 89, 78, 283, 129, 90, 96, 134, 113, 197, 199, 76, 74, 99, 110, 271, 149, 182, 177, 76, 379, 104, 326, 135, 198, 74, 115, 190, 369, 188, 94, 374, 356, 336, 268, 289, 269, 108, 248, 621, 136, 160, 319, 80, 117, 557, 244, 117, 623, 156, 126, 157, 152, 195, 85, 130, 121, 73, 128, 129, 172, 177, 105, 82, 168, 123, 323, 193, 80, 190, 74, 113, 135, 297, 184, 100, 145, 152, 125, 233, 120, 143, 151, 160, 157, 189, 119, 263, 99, 79, 323, 130, 94, 169, 69, 123, 147, 191, 71, 146, 85, 103, 68, 159, 143, 131, 338, 365, 265, 265, 139, 131, 127, 152, 112, 152, 147, 148, 73, 204, 127, 81, 203, 154, 175, 122, 150, 127, 107, 74, 126, 202, 118, 192, 237, 168, 307, 168, 227, 116, 92, 138, 327, 177, 388, 158, 60, 99, 190, 183, 91, 79, 123, 256, 200, 82, 95, 202, 223, 180, 110, 368, 155, 118, 100, 80, 308, 91, 128, 206, 122, 169, 350, 162, 197, 66, 176, 299, 98, 166, 214, 74, 143, 91, 238, 82, 70, 85, 187, 106, 88, 155, 363, 263, 138, 94, 132, 135, 190, 122, 163, 99, 262, 62, 102, 112, 82, 237, 198, 231, 125, 183, 111, 196, 222, 192, 121, 190, 250, 115, 82, 103, 99, 242, 176, 112, 285, 233, 134, 85, 167, 187, 329, 184, 220, 353, 429, 305, 287, 159, 176, 86, 138, 81, 210, 117, 231, 276, 98, 90, 138, 233, 247, 248, 260, 280, 195, 231, 139, 116, 190, 173, 229, 136, 238, 118, 190, 144, 195, 163, 114, 153, 158, 205, 91, 123, 170, 152, 253, 165, 95, 132, 246, 201, 131, 150, 128, 149, 422, 161, 184, 212, 408, 136, 173, 918, 151, 235, 148, 419, 238, 377, 210, 200, 236, 128, 245, 363, 246, 261, 145, 261, 97, 120, 105, 269, 116, 94, 117, 358, 185, 225, 131, 154, 173, 351, 147, 338, 354, 432, 196, 273, 196, 161, 120, 178, 291, 407, 237, 428, 132, 112, 114, 159, 189, 98, 205, 129, 165, 180, 107, 106, 129, 145, 163, 136, 165, 100, 162, 155, 136, 121, 98, 97, 85, 86, 78, 124, 271, 180, 212, 267, 161, 115, 90, 84, 70, 152, 86, 80, 114, 108, 95, 151, 106, 90, 200, 157, 221, 69, 203, 222, 222, 69, 198, 218, 199, 91, 495, 195, 122, 123, 249, 149, 93, 192, 100, 76, 237, 110, 198, 194, 195, 798, 131, 287, 122, 402, 145, 135, 74, 101, 229, 77, 156, 142, 74, 80, 77, 138, 85, 109, 172, 107, 365, 212, 133, 229, 412, 342, 167, 168, 632, 287, 306, 158, 272, 159, 160, 350, 285, 208, 271, 264, 171, 164, 218, 153, 93, 273, 316, 263, 208, 176, 466, 491, 198, 308, 242, 135, 201, 111, 310, 264, 162, 220, 198, 146, 210, 161, 198, 277, 250, 206, 235, 255, 152, 140, 330, 145, 179, 377, 166, 229, 244, 353, 180, 271, 317, 221, 311, 179, 392, 476, 301, 267, 164, 199, 343, 187, 229, 165, 266, 269, 279, 262, 206, 267, 342, 287, 209, 397, 210, 231, 410, 487, 483, 173, 275, 222, 394, 204, 201, 363, 335, 269, 223, 375, 184, 349, 204, 525, 176, 176, 295, 248, 236, 192, 170, 185, 197, 277, 205, 380, 340, 223, 355, 172, 191, 143, 229, 258, 219, 167, 294, 317, 469, 168, 461, 343, 400, 267, 208, 432, 267, 385, 273, 226, 234, 215, 138, 192, 349, 205, 310, 511, 460, 399, 283, 226, 190, 430, 375, 465, 213, 236, 298, 174, 304, 191, 411, 481, 234, 258, 156, 151, 205, 372, 311, 205, 332, 675, 291, 179, 363, 222, 357, 202, 343, 241, 195, 446, 432, 212, 234, 299, 257, 207, 210, 373, 178, 341, 138, 307, 276, 338, 315, 216, 384, 233, 273, 201, 291, 210, 392, 291, 201, 338, 206, 359, 463, 183, 244, 120, 349, 378, 215, 145, 98, 130, 344, 137, 134, 272, 280, 378, 215, 151, 143, 198, 199, 254, 214, 149, 180, 274, 164, 145, 198, 241, 275, 116, 246, 415, 200, 194, 293, 316, 231, 409, 160, 157, 254, 210, 290, 285, 336, 260, 230, 325, 437, 297, 405, 93, 424, 449, 182, 441, 192, 460, 465, 567, 352, 373, 378, 422, 500, 335, 420, 261, 230, 336, 197, 273, 136, 486, 412, 395, 353, 278, 146, 198, 217, 163, 134, 232, 403, 256, 437, 297, 208, 135, 266, 444, 226, 286, 298, 522, 224, 405, 273, 296, 238, 493, 218, 412, 288, 266, 224, 372, 359, 183, 265, 317, 784, 164, 382, 371, 176, 426, 350, 205, 449, 192, 423, 428, 594, 234, 533, 208, 1440]\n"
     ]
    }
   ],
   "source": [
    "print(text_word_count)"
   ]
  },
  {
   "cell_type": "code",
   "execution_count": null,
   "metadata": {
    "colab": {},
    "colab_type": "code",
    "id": "Yd-7W4xO9juA"
   },
   "outputs": [],
   "source": [
    "data1 = pd.Series(data = text_word_count)"
   ]
  },
  {
   "cell_type": "code",
   "execution_count": null,
   "metadata": {
    "colab": {
     "base_uri": "https://localhost:8080/",
     "height": 218
    },
    "colab_type": "code",
    "id": "jXW8Lkkd_90z",
    "outputId": "b2f0858f-b571-4914-b11d-7df6c497fa76"
   },
   "outputs": [
    {
     "data": {
      "text/plain": [
       "130    19\n",
       "156    19\n",
       "145    17\n",
       "152    17\n",
       "127    17\n",
       "       ..\n",
       "486     1\n",
       "476     1\n",
       "474     1\n",
       "468     1\n",
       "60      1\n",
       "Length: 403, dtype: int64"
      ]
     },
     "execution_count": 24,
     "metadata": {
      "tags": []
     },
     "output_type": "execute_result"
    }
   ],
   "source": [
    " #Getting the frequency of words in text to set the maximum words present in text\n",
    "data1.value_counts() "
   ]
  },
  {
   "cell_type": "code",
   "execution_count": null,
   "metadata": {
    "colab": {},
    "colab_type": "code",
    "id": "DsDaKybl__oG"
   },
   "outputs": [],
   "source": [
    "max_len_text = 180 "
   ]
  },
  {
   "cell_type": "code",
   "execution_count": null,
   "metadata": {
    "colab": {
     "base_uri": "https://localhost:8080/",
     "height": 34
    },
    "colab_type": "code",
    "id": "bqdiaFFQARmi",
    "outputId": "c98b1edf-5dfb-46fc-98f8-f8784efb9fd4"
   },
   "outputs": [
    {
     "data": {
      "text/plain": [
       "Index(['text', 'summary', 'cleaned_text', 'cleaned_summary'], dtype='object')"
      ]
     },
     "execution_count": 26,
     "metadata": {
      "tags": []
     },
     "output_type": "execute_result"
    }
   ],
   "source": [
    "data.columns"
   ]
  },
  {
   "cell_type": "code",
   "execution_count": null,
   "metadata": {
    "colab": {},
    "colab_type": "code",
    "id": "h7Xecg2oAXOs"
   },
   "outputs": [],
   "source": [
    "data2 = pd.Series(data = summary_word_count)"
   ]
  },
  {
   "cell_type": "code",
   "execution_count": null,
   "metadata": {
    "colab": {
     "base_uri": "https://localhost:8080/",
     "height": 218
    },
    "colab_type": "code",
    "id": "gd1xDmurA8T3",
    "outputId": "8e1f1586-983e-4d28-fbd3-136446cf2ea1"
   },
   "outputs": [
    {
     "data": {
      "text/plain": [
       "90      22\n",
       "126     20\n",
       "103     20\n",
       "101     20\n",
       "133     19\n",
       "        ..\n",
       "460      1\n",
       "486      1\n",
       "530      1\n",
       "1515     1\n",
       "598      1\n",
       "Length: 336, dtype: int64"
      ]
     },
     "execution_count": 28,
     "metadata": {
      "tags": []
     },
     "output_type": "execute_result"
    }
   ],
   "source": [
    "#Getting the frequency of words in summary to set the maximum words present in summary\n",
    "data2.value_counts()"
   ]
  },
  {
   "cell_type": "code",
   "execution_count": null,
   "metadata": {
    "colab": {},
    "colab_type": "code",
    "id": "O14FJJ7-A_UW"
   },
   "outputs": [],
   "source": [
    "max_len_summary = 90"
   ]
  },
  {
   "cell_type": "code",
   "execution_count": null,
   "metadata": {
    "colab": {
     "base_uri": "https://localhost:8080/",
     "height": 238
    },
    "colab_type": "code",
    "id": "9MXCZciTBW0Y",
    "outputId": "a099a48f-efd6-4f23-f7d3-3fad3222f7ad"
   },
   "outputs": [
    {
     "data": {
      "text/plain": [
       "0       sales boost time warner profitquarterly profits media giant timewarner jumped three months december year earlier firm one biggest investors google benefited sales high speed internet connections h...\n",
       "1       dollar gains greenspan speechthe dollar hit highest level euro almost three months federal reserve head said trade deficit set stabilise alan greenspan highlighted government willingness curb spen...\n",
       "2       yukos unit buyer faces loan claimthe owners embattled russian oil giant yukos ask buyer former production unit pay back loan state owned rosneft bought yugansk unit sale forced russia part settle ...\n",
       "3       high fuel prices hit profitsbritish airways blamed high fuel prices drop profits reporting results three months december airline made pre tax profit compared year earlier rod eddington chief execu...\n",
       "4       pernod takeover talk lifts domecqshares drinks food firm allied domecq risen speculation could target takeover france pernod ricard reports wall street journal financial times suggested french spi...\n",
       "                                                                                                         ...                                                                                                   \n",
       "2218    new consoles promise big problemsmaking games future consoles require graphic artists money industry conference told sony microsoft nintendo debut new consoles annual games expo los angeles may ca...\n",
       "2219    program beat dialler scamsbt introducing two initiatives help beat rogue dialler scams cost dial net users thousands may dial net users able download free software stop computers using numbers use...\n",
       "2221    careful codea new european directive could put software writers risk legal action warns former programmer technology analyst bill thompson gets way dutch government conclude presidency european un...\n",
       "2222    cyber security chief resignsthe man making sure computer networks safe secure resigned year post amit yoran director national cyber security division within department homeland security created fo...\n",
       "2223    losing online gamingonline role playing games time consuming enthralling flights reality people taking fantasy lives seriously video game world warcraft hit shops europe last week fans wrote bbc w...\n",
       "Name: cleaned_text, Length: 2126, dtype: object"
      ]
     },
     "execution_count": 30,
     "metadata": {
      "tags": []
     },
     "output_type": "execute_result"
    }
   ],
   "source": [
    "data['cleaned_text']"
   ]
  },
  {
   "cell_type": "code",
   "execution_count": null,
   "metadata": {
    "colab": {},
    "colab_type": "code",
    "id": "TeNFUQXPBEl7"
   },
   "outputs": [],
   "source": [
    "#Splitting the data\n",
    "from sklearn.model_selection import train_test_split\n",
    "x_tr,x_val,y_tr,y_val=train_test_split(data['cleaned_text'],data['cleaned_summary'],test_size=0.1,random_state=0,shuffle=True) \n"
   ]
  },
  {
   "cell_type": "markdown",
   "metadata": {},
   "source": [
    "<h3><b>Preparing the Tokenizer</b></h3><br>\n",
    "A tokenizer builds the vocabulary and converts a word sequence to an integer sequence. Go ahead and build tokenizers for text and summary:"
   ]
  },
  {
   "cell_type": "code",
   "execution_count": null,
   "metadata": {
    "colab": {},
    "colab_type": "code",
    "id": "GJKtEn6NBijo"
   },
   "outputs": [],
   "source": [
    "#prepare a tokenizer for text on training data\n",
    "x_tokenizer = Tokenizer()\n",
    "x_tokenizer.fit_on_texts(list(x_tr))\n",
    "\n",
    "#convert text sequences into integer sequences\n",
    "x_tr    =   x_tokenizer.texts_to_sequences(x_tr) \n",
    "x_val   =   x_tokenizer.texts_to_sequences(x_val)\n",
    "\n",
    "#padding zero upto maximum length\n",
    "x_tr    =   pad_sequences(x_tr,  maxlen=max_len_text, padding='post') \n",
    "x_val   =   pad_sequences(x_val, maxlen=max_len_text, padding='post')\n",
    "\n",
    "x_voc_size   =  len(x_tokenizer.word_index) +1"
   ]
  },
  {
   "cell_type": "code",
   "execution_count": null,
   "metadata": {
    "colab": {},
    "colab_type": "code",
    "id": "THMkAJVzBxLE"
   },
   "outputs": [],
   "source": [
    "\n",
    "#preparing a tokenizer for summary on training data \n",
    "y_tokenizer = Tokenizer()\n",
    "y_tokenizer.fit_on_texts(list(y_tr))\n",
    "\n",
    "#convert summary sequences into integer sequences\n",
    "y_tr    =   y_tokenizer.texts_to_sequences(y_tr) \n",
    "y_val   =   y_tokenizer.texts_to_sequences(y_val) \n",
    "\n",
    "#padding zero upto maximum length\n",
    "y_tr    =   pad_sequences(y_tr, maxlen=max_len_summary, padding='post')\n",
    "y_val   =   pad_sequences(y_val, maxlen=max_len_summary, padding='post')\n",
    "\n",
    "y_voc_size  =   len(y_tokenizer.word_index) +1"
   ]
  },
  {
   "cell_type": "code",
   "execution_count": null,
   "metadata": {
    "colab": {},
    "colab_type": "code",
    "id": "6zw7iOK9BzJV"
   },
   "outputs": [],
   "source": []
  }
 ],
 "metadata": {
  "colab": {
   "collapsed_sections": [],
   "name": "Model.ipynb",
   "provenance": []
  },
  "kernelspec": {
   "display_name": "Python 3",
   "language": "python",
   "name": "python3"
  },
  "language_info": {
   "codemirror_mode": {
    "name": "ipython",
    "version": 3
   },
   "file_extension": ".py",
   "mimetype": "text/x-python",
   "name": "python",
   "nbconvert_exporter": "python",
   "pygments_lexer": "ipython3",
   "version": "3.7.6"
  }
 },
 "nbformat": 4,
 "nbformat_minor": 1
}
